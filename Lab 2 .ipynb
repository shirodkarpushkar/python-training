{
 "cells": [
  {
   "cell_type": "code",
   "execution_count": 1,
   "id": "afe96ec4",
   "metadata": {},
   "outputs": [
    {
     "name": "stdout",
     "output_type": "stream",
     "text": [
      "mike\n"
     ]
    }
   ],
   "source": [
    "name= \"mike\"\n",
    "print(name)"
   ]
  },
  {
   "cell_type": "code",
   "execution_count": 4,
   "id": "ccda97fc",
   "metadata": {},
   "outputs": [
    {
     "name": "stdout",
     "output_type": "stream",
     "text": [
      "Enter your name:Jane\n",
      "Welcome :  Jane\n"
     ]
    }
   ],
   "source": [
    "name = input('Enter your name:')\n",
    "print(\"Welcome : \",name)"
   ]
  },
  {
   "cell_type": "code",
   "execution_count": 13,
   "id": "19e6296a",
   "metadata": {},
   "outputs": [
    {
     "name": "stdout",
     "output_type": "stream",
     "text": [
      "<class 'int'> <class 'float'> <class 'str'> <class 'str'> <class 'bool'>\n"
     ]
    }
   ],
   "source": [
    "t1=type(10)\n",
    "t2=type(10.3)\n",
    "t3=type(\"10.45\")\n",
    "t4=type(\"Welcome to python\")\n",
    "t5=type(True)\n",
    "print(t1,t2,t3,t4,t5)"
   ]
  },
  {
   "cell_type": "markdown",
   "id": "988a7e64",
   "metadata": {},
   "source": [
    "### Type casting in Python"
   ]
  },
  {
   "cell_type": "code",
   "execution_count": 16,
   "id": "11981f60",
   "metadata": {},
   "outputs": [
    {
     "data": {
      "text/plain": [
       "2.0"
      ]
     },
     "execution_count": 16,
     "metadata": {},
     "output_type": "execute_result"
    }
   ],
   "source": [
    "float(2)"
   ]
  },
  {
   "cell_type": "code",
   "execution_count": 21,
   "id": "bd0fb87f",
   "metadata": {},
   "outputs": [
    {
     "data": {
      "text/plain": [
       "1"
      ]
     },
     "execution_count": 21,
     "metadata": {},
     "output_type": "execute_result"
    }
   ],
   "source": [
    "int(1.1)"
   ]
  },
  {
   "cell_type": "code",
   "execution_count": 22,
   "id": "005190a6",
   "metadata": {},
   "outputs": [
    {
     "ename": "ValueError",
     "evalue": "invalid literal for int() with base 10: '1.2'",
     "output_type": "error",
     "traceback": [
      "\u001b[1;31m---------------------------------------------------------------------------\u001b[0m",
      "\u001b[1;31mValueError\u001b[0m                                Traceback (most recent call last)",
      "\u001b[1;32m~\\AppData\\Local\\Temp/ipykernel_17336/3809317863.py\u001b[0m in \u001b[0;36m<module>\u001b[1;34m\u001b[0m\n\u001b[1;32m----> 1\u001b[1;33m \u001b[0mint\u001b[0m\u001b[1;33m(\u001b[0m\u001b[1;34m\"1.2\"\u001b[0m\u001b[1;33m)\u001b[0m\u001b[1;33m\u001b[0m\u001b[1;33m\u001b[0m\u001b[0m\n\u001b[0m",
      "\u001b[1;31mValueError\u001b[0m: invalid literal for int() with base 10: '1.2'"
     ]
    }
   ],
   "source": [
    "int(\"1.2\")"
   ]
  },
  {
   "cell_type": "code",
   "execution_count": 23,
   "id": "979b4480",
   "metadata": {},
   "outputs": [
    {
     "data": {
      "text/plain": [
       "1"
      ]
     },
     "execution_count": 23,
     "metadata": {},
     "output_type": "execute_result"
    }
   ],
   "source": [
    "int(\"1\")"
   ]
  },
  {
   "cell_type": "code",
   "execution_count": 24,
   "id": "7a710205",
   "metadata": {},
   "outputs": [
    {
     "data": {
      "text/plain": [
       "1.55"
      ]
     },
     "execution_count": 24,
     "metadata": {},
     "output_type": "execute_result"
    }
   ],
   "source": [
    "float(\"1.55\")"
   ]
  },
  {
   "cell_type": "code",
   "execution_count": 25,
   "id": "983ba84b",
   "metadata": {},
   "outputs": [
    {
     "data": {
      "text/plain": [
       "1"
      ]
     },
     "execution_count": 25,
     "metadata": {},
     "output_type": "execute_result"
    }
   ],
   "source": [
    "int(True)"
   ]
  },
  {
   "cell_type": "code",
   "execution_count": 26,
   "id": "d7f3a7e4",
   "metadata": {},
   "outputs": [
    {
     "data": {
      "text/plain": [
       "0"
      ]
     },
     "execution_count": 26,
     "metadata": {},
     "output_type": "execute_result"
    }
   ],
   "source": [
    "int(False)"
   ]
  },
  {
   "cell_type": "code",
   "execution_count": 27,
   "id": "59a1d576",
   "metadata": {},
   "outputs": [
    {
     "data": {
      "text/plain": [
       "True"
      ]
     },
     "execution_count": 27,
     "metadata": {},
     "output_type": "execute_result"
    }
   ],
   "source": [
    "bool(1)"
   ]
  },
  {
   "cell_type": "code",
   "execution_count": 28,
   "id": "b8f0853c",
   "metadata": {},
   "outputs": [
    {
     "data": {
      "text/plain": [
       "False"
      ]
     },
     "execution_count": 28,
     "metadata": {},
     "output_type": "execute_result"
    }
   ],
   "source": [
    "bool(0)"
   ]
  },
  {
   "cell_type": "code",
   "execution_count": 29,
   "id": "e4c7c670",
   "metadata": {},
   "outputs": [
    {
     "name": "stdout",
     "output_type": "stream",
     "text": [
      "3.0\n"
     ]
    }
   ],
   "source": [
    "x = 3.5\n",
    "print(float(int(x)))"
   ]
  },
  {
   "cell_type": "code",
   "execution_count": 30,
   "id": "4a340620",
   "metadata": {},
   "outputs": [
    {
     "ename": "NameError",
     "evalue": "name 'Varma' is not defined",
     "output_type": "error",
     "traceback": [
      "\u001b[1;31m---------------------------------------------------------------------------\u001b[0m",
      "\u001b[1;31mNameError\u001b[0m                                 Traceback (most recent call last)",
      "\u001b[1;32m~\\AppData\\Local\\Temp/ipykernel_17336/3599454971.py\u001b[0m in \u001b[0;36m<module>\u001b[1;34m\u001b[0m\n\u001b[1;32m----> 1\u001b[1;33m \u001b[0mname\u001b[0m \u001b[1;33m=\u001b[0m \u001b[0mVarma\u001b[0m\u001b[1;33m\u001b[0m\u001b[1;33m\u001b[0m\u001b[0m\n\u001b[0m\u001b[0;32m      2\u001b[0m \u001b[1;33m\u001b[0m\u001b[0m\n\u001b[0;32m      3\u001b[0m \u001b[0mprint\u001b[0m\u001b[1;33m(\u001b[0m\u001b[0mtype\u001b[0m\u001b[1;33m(\u001b[0m\u001b[0mname\u001b[0m\u001b[1;33m)\u001b[0m\u001b[1;33m)\u001b[0m\u001b[1;33m\u001b[0m\u001b[1;33m\u001b[0m\u001b[0m\n",
      "\u001b[1;31mNameError\u001b[0m: name 'Varma' is not defined"
     ]
    }
   ],
   "source": [
    "name = Varma\n",
    "\n",
    "print(type(name))"
   ]
  },
  {
   "cell_type": "markdown",
   "id": "047de040",
   "metadata": {},
   "source": [
    "### Arithmatic Operators"
   ]
  },
  {
   "cell_type": "code",
   "execution_count": 32,
   "id": "06573572",
   "metadata": {},
   "outputs": [
    {
     "name": "stdout",
     "output_type": "stream",
     "text": [
      "Addition :  3\n",
      "Subtraction :  -1\n",
      "Division 0.5\n",
      "Floor Division :  0\n",
      "Modulus of remainder :  1\n",
      "Exponential :  1\n"
     ]
    }
   ],
   "source": [
    "a=1\n",
    "b=2\n",
    "print('Addition : ',a+b)\n",
    "print('Subtraction : ',a-b)\n",
    "print('Division',a/b)\n",
    "print('Floor Division : ',a//b)\n",
    "print('Modulus of remainder : ',a%b)\n",
    "print('Exponential : ',a**b)"
   ]
  },
  {
   "cell_type": "code",
   "execution_count": 34,
   "id": "1523931b",
   "metadata": {},
   "outputs": [
    {
     "ename": "NameError",
     "evalue": "name 'X' is not defined",
     "output_type": "error",
     "traceback": [
      "\u001b[1;31m---------------------------------------------------------------------------\u001b[0m",
      "\u001b[1;31mNameError\u001b[0m                                 Traceback (most recent call last)",
      "\u001b[1;32m~\\AppData\\Local\\Temp/ipykernel_17336/2520207968.py\u001b[0m in \u001b[0;36m<module>\u001b[1;34m\u001b[0m\n\u001b[0;32m      2\u001b[0m \u001b[0my\u001b[0m\u001b[1;33m=\u001b[0m\u001b[1;36m2.5\u001b[0m\u001b[1;33m\u001b[0m\u001b[1;33m\u001b[0m\u001b[0m\n\u001b[0;32m      3\u001b[0m \u001b[0mz\u001b[0m\u001b[1;33m=\u001b[0m\u001b[1;36m5\u001b[0m\u001b[1;33m\u001b[0m\u001b[1;33m\u001b[0m\u001b[0m\n\u001b[1;32m----> 4\u001b[1;33m \u001b[0mprint\u001b[0m\u001b[1;33m(\u001b[0m\u001b[0mX\u001b[0m\u001b[1;33m+\u001b[0m\u001b[0my\u001b[0m\u001b[1;33m/\u001b[0m\u001b[0mz\u001b[0m\u001b[1;33m)\u001b[0m\u001b[1;33m\u001b[0m\u001b[1;33m\u001b[0m\u001b[0m\n\u001b[0m",
      "\u001b[1;31mNameError\u001b[0m: name 'X' is not defined"
     ]
    }
   ],
   "source": [
    "x=3\n",
    "y=2.5\n",
    "z=5\n",
    "print(X+y/z)"
   ]
  },
  {
   "cell_type": "code",
   "execution_count": 36,
   "id": "759b8f2b",
   "metadata": {},
   "outputs": [
    {
     "data": {
      "text/plain": [
       "-2"
      ]
     },
     "execution_count": 36,
     "metadata": {},
     "output_type": "execute_result"
    }
   ],
   "source": [
    "4%(1+ 9)**2 - 60//(7+2)"
   ]
  },
  {
   "cell_type": "markdown",
   "id": "f2220b8d",
   "metadata": {},
   "source": [
    "### String Operations"
   ]
  },
  {
   "cell_type": "code",
   "execution_count": 40,
   "id": "3c74cb65",
   "metadata": {},
   "outputs": [
    {
     "name": "stdout",
     "output_type": "stream",
     "text": [
      "123\n"
     ]
    }
   ],
   "source": [
    "a=(123)\n",
    "print(a)"
   ]
  },
  {
   "cell_type": "code",
   "execution_count": 44,
   "id": "d8be2315",
   "metadata": {},
   "outputs": [
    {
     "name": "stdout",
     "output_type": "stream",
     "text": [
      "5\n"
     ]
    }
   ],
   "source": [
    "a='Learn'\n",
    "strlenght= len(a)\n",
    "print(strlenght)"
   ]
  },
  {
   "cell_type": "code",
   "execution_count": 49,
   "id": "031d3526",
   "metadata": {},
   "outputs": [
    {
     "data": {
      "text/plain": [
       "'a'"
      ]
     },
     "execution_count": 49,
     "metadata": {},
     "output_type": "execute_result"
    }
   ],
   "source": [
    "# 2 index element of string\n",
    "a[2]"
   ]
  },
  {
   "cell_type": "code",
   "execution_count": 48,
   "id": "b49beb2b",
   "metadata": {},
   "outputs": [
    {
     "data": {
      "text/plain": [
       "'n'"
      ]
     },
     "execution_count": 48,
     "metadata": {},
     "output_type": "execute_result"
    }
   ],
   "source": [
    "# last element of string\n",
    "a[-1]"
   ]
  },
  {
   "cell_type": "code",
   "execution_count": 51,
   "id": "cb619192",
   "metadata": {},
   "outputs": [
    {
     "ename": "TypeError",
     "evalue": "'str' object does not support item assignment",
     "output_type": "error",
     "traceback": [
      "\u001b[1;31m---------------------------------------------------------------------------\u001b[0m",
      "\u001b[1;31mTypeError\u001b[0m                                 Traceback (most recent call last)",
      "\u001b[1;32m~\\AppData\\Local\\Temp/ipykernel_17336/592476398.py\u001b[0m in \u001b[0;36m<module>\u001b[1;34m\u001b[0m\n\u001b[1;32m----> 1\u001b[1;33m \u001b[0ma\u001b[0m\u001b[1;33m[\u001b[0m\u001b[1;36m2\u001b[0m\u001b[1;33m]\u001b[0m\u001b[1;33m=\u001b[0m\u001b[1;34m's'\u001b[0m\u001b[1;33m\u001b[0m\u001b[1;33m\u001b[0m\u001b[0m\n\u001b[0m",
      "\u001b[1;31mTypeError\u001b[0m: 'str' object does not support item assignment"
     ]
    }
   ],
   "source": [
    "# strings are immutable\n",
    "a[2]='s'"
   ]
  },
  {
   "cell_type": "code",
   "execution_count": 53,
   "id": "dc5a8d06",
   "metadata": {},
   "outputs": [
    {
     "name": "stdout",
     "output_type": "stream",
     "text": [
      "Pushkar Shirodkar \n"
     ]
    }
   ],
   "source": [
    "# str concat\n",
    "firstName = 'Pushkar '\n",
    "lastName = 'Shirodkar '\n",
    "fullName= firstName + lastName\n",
    "print(fullName)"
   ]
  },
  {
   "cell_type": "code",
   "execution_count": 55,
   "id": "743e837c",
   "metadata": {},
   "outputs": [
    {
     "name": "stdout",
     "output_type": "stream",
     "text": [
      "Age is 10\n"
     ]
    }
   ],
   "source": [
    "#str concat with munbers\n",
    "age = 10\n",
    "print(\"Age is \" + str(10))"
   ]
  },
  {
   "cell_type": "code",
   "execution_count": 57,
   "id": "ba37fa34",
   "metadata": {},
   "outputs": [
    {
     "name": "stdout",
     "output_type": "stream",
     "text": [
      "pytho\n"
     ]
    }
   ],
   "source": [
    "#slicing in str\n",
    "statement = 'python programing'\n",
    "sliced_statement = statement[0:5]\n",
    "print(sliced_statement)"
   ]
  },
  {
   "cell_type": "code",
   "execution_count": 60,
   "id": "62a2cc81",
   "metadata": {},
   "outputs": [
    {
     "name": "stdout",
     "output_type": "stream",
     "text": [
      "5 girls \n",
      "3 boys in a class\n"
     ]
    }
   ],
   "source": [
    "batch = '5 girls 3 boys in a class'\n",
    "girls = batch[:8]\n",
    "boys = batch[8:]\n",
    "print(girls)\n",
    "print(boys)"
   ]
  },
  {
   "cell_type": "code",
   "execution_count": 62,
   "id": "2733076f",
   "metadata": {},
   "outputs": [
    {
     "name": "stdout",
     "output_type": "stream",
     "text": [
      "True\n",
      "True\n"
     ]
    }
   ],
   "source": [
    "# Membership Operator\n",
    "statement = 'John Doe'\n",
    "print('John' in statement)\n",
    "print(\"David\" not in statement)"
   ]
  },
  {
   "cell_type": "code",
   "execution_count": 64,
   "id": "68f3d48d",
   "metadata": {},
   "outputs": [
    {
     "name": "stdout",
     "output_type": "stream",
     "text": [
      "abcdabcdabcdabcd\n"
     ]
    }
   ],
   "source": [
    "# Repeatation\n",
    "string = 'abcd'\n",
    "print(string*4)"
   ]
  },
  {
   "cell_type": "code",
   "execution_count": 70,
   "id": "1a27891f",
   "metadata": {},
   "outputs": [
    {
     "data": {
      "text/plain": [
       "'Python'"
      ]
     },
     "execution_count": 70,
     "metadata": {},
     "output_type": "execute_result"
    }
   ],
   "source": [
    "word = \"I love Python programming\"\n",
    "\n",
    "word[7:13]\n",
    "\n",
    "word[-18:-12]"
   ]
  },
  {
   "cell_type": "code",
   "execution_count": 72,
   "id": "47a0b09d",
   "metadata": {},
   "outputs": [
    {
     "data": {
      "text/plain": [
       "'e'"
      ]
     },
     "execution_count": 72,
     "metadata": {},
     "output_type": "execute_result"
    }
   ],
   "source": [
    "x = 'len'\n",
    "x[len(x*2)- 5]"
   ]
  },
  {
   "cell_type": "markdown",
   "id": "29a16d05",
   "metadata": {},
   "source": [
    "### String methods\n",
    "- upper(): makes string to uppercase\n",
    "- lower(): make string to lowercase\n",
    "- strip(): strip whitespace\n",
    "- rstrip(): strip right whitespace\n",
    "- lstrip(): strip left whitespace\n",
    "- count(substring,begin,end)"
   ]
  },
  {
   "cell_type": "code",
   "execution_count": 75,
   "id": "435bb9f7",
   "metadata": {},
   "outputs": [
    {
     "name": "stdout",
     "output_type": "stream",
     "text": [
      "2\n",
      "1\n"
     ]
    }
   ],
   "source": [
    "#count() method\n",
    "string= ' this is a sample sentence'\n",
    "print(string.count('i'))\n",
    "print(string.count('i',5))"
   ]
  },
  {
   "cell_type": "code",
   "execution_count": 77,
   "id": "e691251e",
   "metadata": {},
   "outputs": [
    {
     "data": {
      "text/plain": [
       "2"
      ]
     },
     "execution_count": 77,
     "metadata": {},
     "output_type": "execute_result"
    }
   ],
   "source": [
    "string = 'I love breaking bad'\n",
    "string.count('a')"
   ]
  },
  {
   "cell_type": "code",
   "execution_count": 79,
   "id": "28081684",
   "metadata": {},
   "outputs": [
    {
     "name": "stdout",
     "output_type": "stream",
     "text": [
      " x * 3\n"
     ]
    }
   ],
   "source": [
    "a=' x {0} 3'\n",
    "b= a.format('*')\n",
    "print(b)"
   ]
  },
  {
   "cell_type": "code",
   "execution_count": 91,
   "id": "901c8d17",
   "metadata": {},
   "outputs": [
    {
     "name": "stdout",
     "output_type": "stream",
     "text": [
      "bandra,mumbai\n"
     ]
    }
   ],
   "source": [
    "input_str = 'bmaunmdbraai'\n",
    "message1 = input_str[0:-1:2]\n",
    "message2 = input_str[1:len(input_str):2]\n",
    "print(message1.strip('#') + \",\" + message2.strip('#'))"
   ]
  }
 ],
 "metadata": {
  "kernelspec": {
   "display_name": "Python 3 (ipykernel)",
   "language": "python",
   "name": "python3"
  },
  "language_info": {
   "codemirror_mode": {
    "name": "ipython",
    "version": 3
   },
   "file_extension": ".py",
   "mimetype": "text/x-python",
   "name": "python",
   "nbconvert_exporter": "python",
   "pygments_lexer": "ipython3",
   "version": "3.9.7"
  }
 },
 "nbformat": 4,
 "nbformat_minor": 5
}
