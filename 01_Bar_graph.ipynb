{
 "cells": [
  {
   "cell_type": "markdown",
   "metadata": {},
   "source": [
    "## Visualisation in Python - Matplotlib"
   ]
  },
  {
   "cell_type": "markdown",
   "metadata": {},
   "source": [
    "You will be working with the sales dataset for an online retailer. The data is collected over a period of three years: 2012 to 2015. It contains the information of sales made by the company. \n",
    "\n",
    "The products captured belong to three categories:\n",
    "-  Furniture\n",
    "-  Office Supplies\n",
    "-  Technology\n",
    "\n",
    "Also, the company caters to five different markets:\n",
    "-  USCA\n",
    "-  LATAM\n",
    "-  ASPAC\n",
    "-  EUR\n",
    "-  AFR\n",
    "\n",
    "Let's get started with the plots. We will be using the '**pyplot**' package of the Matplotlib library."
   ]
  },
  {
   "cell_type": "code",
   "execution_count": 1,
   "metadata": {},
   "outputs": [],
   "source": [
    "# importing numpy and the pyplot package of matplotlib\n",
    "import numpy as np\n",
    "import matplotlib.pyplot as plt"
   ]
  },
  {
   "cell_type": "code",
   "execution_count": 2,
   "metadata": {},
   "outputs": [],
   "source": [
    "# Creating an array with product categories\n",
    "product_categories=np.array(['Furniture',\"Technology\",\"Office Supplies\"])\n",
    "sales=np.array([4110451.90,4744557.50,3787492.52])"
   ]
  },
  {
   "cell_type": "code",
   "execution_count": null,
   "metadata": {},
   "outputs": [],
   "source": [
    "# Creating an array with the sales amount\n",
    "# Furniture: 4110451.90\n",
    "# Technology: 4744557.50\n",
    "# Office Supplies: 3787492.52\n",
    "\n",
    "\n"
   ]
  },
  {
   "cell_type": "markdown",
   "metadata": {},
   "source": [
    "It is not necessary that you are provided with the aggregated values every time. In such cases, you first need to calculate the values and then build the graphs.\n",
    "\n",
    "Let's see how to plot a bar graph for the provided values. "
   ]
  },
  {
   "cell_type": "markdown",
   "metadata": {},
   "source": [
    "### Bar Graph: Plotting sales across each product category"
   ]
  },
  {
   "cell_type": "markdown",
   "metadata": {},
   "source": [
    "- A bar chart uses bars to show comparisons between categories of data.\n",
    "\n",
    "- One axis will generally have numerical values or measures, \n",
    "- The other will describe the types of categories being compared or dimensions.\n",
    "\n",
    "Let's start with plotting a bar graph representing the sales across different categories over the period."
   ]
  },
  {
   "cell_type": "code",
   "execution_count": 22,
   "metadata": {},
   "outputs": [
    {
     "data": {
      "image/png": "[encoded data removed]",
      "text/plain": [
       "<Figure size 432x288 with 1 Axes>"
      ]
     },
     "metadata": {
      "needs_background": "light"
     },
     "output_type": "display_data"
    }
   ],
   "source": [
    "# plotting the bar graph with product categories on x-axis and sales amount of y-axis\n",
    "\n",
    "\n",
    "# necessary command to display the created graph\n",
    "plt.bar(product_categories,sales,width = 0.8)\n",
    "plt.title('Sales accross Product Categories',fontdict={'fontsize':20,'color':\"Green\",'fontweight':10})\n",
    "plt.xlabel('Product Categories',fontdict={'fontsize':10,'color':\"Blue\",'fontweight':5})\n",
    "plt.ylabel('Sales',fontdict={'fontsize':10,'color':\"Blue\",'fontweight':5})\n",
    "\n",
    "# tickValues = np.arange(0,7000000,1000000)\n",
    "# tickLabels =[\"0L\",\"10L\",\"20L\",\"30L\",\"40L\",\"50L\",\"60L\"]\n",
    "# plt.yticks(tickValues,tickLabels)\n",
    "plt.show()"
   ]
  },
  {
   "cell_type": "markdown",
   "metadata": {},
   "source": [
    "#### Adding title and labeling axes in the graph"
   ]
  },
  {
   "cell_type": "code",
   "execution_count": null,
   "metadata": {},
   "outputs": [],
   "source": [
    "# plotting the bar graph with product categories on x-axis and sales amount of y-axis\n",
    "\n",
    "\n",
    "# adding title to the graph\n",
    "\n",
    "\n",
    "# labeling axes\n",
    "\n",
    "\n",
    "# necessary command to display the created graph\n"
   ]
  },
  {
   "cell_type": "markdown",
   "metadata": {},
   "source": [
    "#### Modifying the bars in the graph"
   ]
  },
  {
   "cell_type": "code",
   "execution_count": null,
   "metadata": {},
   "outputs": [],
   "source": [
    "# changing color of the bars in the bar graph\n",
    "# plotting the bar graph with product categories on x-axis and sales amount of y-axis\n",
    "\n",
    "\n",
    "# adding title to the graph\n",
    "\n",
    "\n",
    "# labeling axes\n",
    "\n",
    "\n",
    "# necessary command to display the created graph\n"
   ]
  },
  {
   "cell_type": "markdown",
   "metadata": {},
   "source": [
    "#### Adjusting tick values and the value labels"
   ]
  },
  {
   "cell_type": "code",
   "execution_count": null,
   "metadata": {},
   "outputs": [],
   "source": [
    "# plotting the bar graph with product categories on x-axis and sales amount of y-axis\n",
    "\n",
    "\n",
    "# adding title to the graph\n",
    "\n",
    "\n",
    "# labeling axes\n",
    "\n",
    "\n",
    "# Modifying the ticks to show information in (lakhs)\n",
    "tick_values = \n",
    "tick_labels = \n",
    "\n",
    "# necessary command to display the created graph\n",
    "\n"
   ]
  }
 ],
 "metadata": {
  "kernelspec": {
   "display_name": "Python 3 (ipykernel)",
   "language": "python",
   "name": "python3"
  },
  "language_info": {
   "codemirror_mode": {
    "name": "ipython",
    "version": 3
   },
   "file_extension": ".py",
   "mimetype": "text/x-python",
   "name": "python",
   "nbconvert_exporter": "python",
   "pygments_lexer": "ipython3",
   "version": "3.9.7"
  }
 },
 "nbformat": 4,
 "nbformat_minor": 2
}
